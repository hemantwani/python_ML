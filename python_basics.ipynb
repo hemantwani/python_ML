{
  "nbformat": 4,
  "nbformat_minor": 0,
  "metadata": {
    "colab": {
      "name": "python_basics.ipynb",
      "provenance": []
    },
    "kernelspec": {
      "name": "python3",
      "display_name": "Python 3"
    }
  },
  "cells": [
    {
      "cell_type": "code",
      "metadata": {
        "id": "9Jktzi5qV4OS"
      },
      "source": [
        "lst=['Ram','Shyam','Shiv','Krishna']"
      ],
      "execution_count": 1,
      "outputs": []
    },
    {
      "cell_type": "code",
      "metadata": {
        "colab": {
          "base_uri": "https://localhost:8080/"
        },
        "id": "zhi32Ue2g-y9",
        "outputId": "d7733aff-efed-4c56-957e-9adc614febd0"
      },
      "source": [
        "lst"
      ],
      "execution_count": 2,
      "outputs": [
        {
          "output_type": "execute_result",
          "data": {
            "text/plain": [
              "['Ram', 'Shyam', 'Shiv', 'Krishna']"
            ]
          },
          "metadata": {
            "tags": []
          },
          "execution_count": 2
        }
      ]
    },
    {
      "cell_type": "code",
      "metadata": {
        "id": "AykwHNIYhBFW"
      },
      "source": [
        "lst.append('Om')"
      ],
      "execution_count": 3,
      "outputs": []
    },
    {
      "cell_type": "code",
      "metadata": {
        "colab": {
          "base_uri": "https://localhost:8080/"
        },
        "id": "Qo76ZjVphHOZ",
        "outputId": "c01e5388-9854-4b22-ea51-6b1f1a488822"
      },
      "source": [
        "lst"
      ],
      "execution_count": 4,
      "outputs": [
        {
          "output_type": "execute_result",
          "data": {
            "text/plain": [
              "['Ram', 'Shyam', 'Shiv', 'Krishna', 'Om']"
            ]
          },
          "metadata": {
            "tags": []
          },
          "execution_count": 4
        }
      ]
    },
    {
      "cell_type": "code",
      "metadata": {
        "id": "rCaIyV5ShJer"
      },
      "source": [
        "lst.append(['Radha','Sita','Parvati'])"
      ],
      "execution_count": 5,
      "outputs": []
    },
    {
      "cell_type": "code",
      "metadata": {
        "colab": {
          "base_uri": "https://localhost:8080/"
        },
        "id": "FnXaXOAwhRpQ",
        "outputId": "826c4256-8c6b-44ce-d98e-abd6fcad880a"
      },
      "source": [
        "lst"
      ],
      "execution_count": 6,
      "outputs": [
        {
          "output_type": "execute_result",
          "data": {
            "text/plain": [
              "['Ram', 'Shyam', 'Shiv', 'Krishna', 'Om', ['Radha', 'Sita', 'Parvati']]"
            ]
          },
          "metadata": {
            "tags": []
          },
          "execution_count": 6
        }
      ]
    },
    {
      "cell_type": "code",
      "metadata": {
        "colab": {
          "base_uri": "https://localhost:8080/"
        },
        "id": "Smbf32VDhSYL",
        "outputId": "ede74865-bf03-435d-f097-6ce834c31729"
      },
      "source": [
        "for i in lst:\r\n",
        "  print(i)"
      ],
      "execution_count": 7,
      "outputs": [
        {
          "output_type": "stream",
          "text": [
            "Ram\n",
            "Shyam\n",
            "Shiv\n",
            "Krishna\n",
            "Om\n",
            "['Radha', 'Sita', 'Parvati']\n"
          ],
          "name": "stdout"
        }
      ]
    },
    {
      "cell_type": "code",
      "metadata": {
        "colab": {
          "base_uri": "https://localhost:8080/"
        },
        "id": "v_BVYgPwhZsF",
        "outputId": "653222fb-6772-4a19-8dee-d32ff50cb87f"
      },
      "source": [
        "lst[1:]"
      ],
      "execution_count": 8,
      "outputs": [
        {
          "output_type": "execute_result",
          "data": {
            "text/plain": [
              "['Shyam', 'Shiv', 'Krishna', 'Om', ['Radha', 'Sita', 'Parvati']]"
            ]
          },
          "metadata": {
            "tags": []
          },
          "execution_count": 8
        }
      ]
    },
    {
      "cell_type": "code",
      "metadata": {
        "colab": {
          "base_uri": "https://localhost:8080/"
        },
        "id": "DRyvMAXShsxc",
        "outputId": "f3497e3c-ba51-4387-8a62-90078314bbcf"
      },
      "source": [
        "lst[1:4]"
      ],
      "execution_count": 9,
      "outputs": [
        {
          "output_type": "execute_result",
          "data": {
            "text/plain": [
              "['Shyam', 'Shiv', 'Krishna']"
            ]
          },
          "metadata": {
            "tags": []
          },
          "execution_count": 9
        }
      ]
    },
    {
      "cell_type": "code",
      "metadata": {
        "colab": {
          "base_uri": "https://localhost:8080/"
        },
        "id": "p-7QOkechwPo",
        "outputId": "b502c50c-b1fe-46f9-d96e-7e65f05a6057"
      },
      "source": [
        "lst"
      ],
      "execution_count": 10,
      "outputs": [
        {
          "output_type": "execute_result",
          "data": {
            "text/plain": [
              "['Ram', 'Shyam', 'Shiv', 'Krishna', 'Om', ['Radha', 'Sita', 'Parvati']]"
            ]
          },
          "metadata": {
            "tags": []
          },
          "execution_count": 10
        }
      ]
    },
    {
      "cell_type": "code",
      "metadata": {
        "colab": {
          "base_uri": "https://localhost:8080/",
          "height": 35
        },
        "id": "pHtNfRcYhygN",
        "outputId": "d80e6ba4-f49c-4d30-ef56-76c45c9a67dc"
      },
      "source": [
        "lst.pop(2)"
      ],
      "execution_count": 11,
      "outputs": [
        {
          "output_type": "execute_result",
          "data": {
            "application/vnd.google.colaboratory.intrinsic+json": {
              "type": "string"
            },
            "text/plain": [
              "'Shiv'"
            ]
          },
          "metadata": {
            "tags": []
          },
          "execution_count": 11
        }
      ]
    },
    {
      "cell_type": "code",
      "metadata": {
        "id": "HS077E2th6Pl"
      },
      "source": [
        "lst_num=[10,20,30,40,50]"
      ],
      "execution_count": 13,
      "outputs": []
    },
    {
      "cell_type": "code",
      "metadata": {
        "colab": {
          "base_uri": "https://localhost:8080/"
        },
        "id": "4vzVzPL0iI4B",
        "outputId": "d7daffce-d551-4767-c536-f8c2545378da"
      },
      "source": [
        "lst_num"
      ],
      "execution_count": 14,
      "outputs": [
        {
          "output_type": "execute_result",
          "data": {
            "text/plain": [
              "[10, 20, 30, 40, 50]"
            ]
          },
          "metadata": {
            "tags": []
          },
          "execution_count": 14
        }
      ]
    },
    {
      "cell_type": "code",
      "metadata": {
        "id": "fIl5nZTJiLPC"
      },
      "source": [
        "lst_num.extend([60,70])"
      ],
      "execution_count": 17,
      "outputs": []
    },
    {
      "cell_type": "code",
      "metadata": {
        "colab": {
          "base_uri": "https://localhost:8080/"
        },
        "id": "u4a6pCW8iXfx",
        "outputId": "b6f29ebb-80ca-41e2-bbc4-a49d5ed173f7"
      },
      "source": [
        "lst_num"
      ],
      "execution_count": 18,
      "outputs": [
        {
          "output_type": "execute_result",
          "data": {
            "text/plain": [
              "[10, 20, 30, 40, 50, 60, 70]"
            ]
          },
          "metadata": {
            "tags": []
          },
          "execution_count": 18
        }
      ]
    },
    {
      "cell_type": "code",
      "metadata": {
        "colab": {
          "base_uri": "https://localhost:8080/"
        },
        "id": "7ng7GHnCiZ-D",
        "outputId": "c52ced83-c782-41ae-e2c8-c0e59fdfba41"
      },
      "source": [
        "lst_num *2"
      ],
      "execution_count": 19,
      "outputs": [
        {
          "output_type": "execute_result",
          "data": {
            "text/plain": [
              "[10, 20, 30, 40, 50, 60, 70, 10, 20, 30, 40, 50, 60, 70]"
            ]
          },
          "metadata": {
            "tags": []
          },
          "execution_count": 19
        }
      ]
    },
    {
      "cell_type": "code",
      "metadata": {
        "colab": {
          "base_uri": "https://localhost:8080/"
        },
        "id": "LLTmhhhIij8A",
        "outputId": "bcb4beb3-7fe0-4add-bdb5-ceaf806d70ca"
      },
      "source": [
        "max(lst_num)"
      ],
      "execution_count": 20,
      "outputs": [
        {
          "output_type": "execute_result",
          "data": {
            "text/plain": [
              "70"
            ]
          },
          "metadata": {
            "tags": []
          },
          "execution_count": 20
        }
      ]
    },
    {
      "cell_type": "code",
      "metadata": {
        "colab": {
          "base_uri": "https://localhost:8080/"
        },
        "id": "fMkNyn0qirz8",
        "outputId": "92e62c49-1900-428e-d65c-a9f1604c1b7d"
      },
      "source": [
        "min(lst_num)"
      ],
      "execution_count": 21,
      "outputs": [
        {
          "output_type": "execute_result",
          "data": {
            "text/plain": [
              "10"
            ]
          },
          "metadata": {
            "tags": []
          },
          "execution_count": 21
        }
      ]
    },
    {
      "cell_type": "code",
      "metadata": {
        "colab": {
          "base_uri": "https://localhost:8080/"
        },
        "id": "kHTycEC_iu99",
        "outputId": "87e8f0a3-7af1-4b95-8943-9a29ca552636"
      },
      "source": [
        "lst_num.count(20)"
      ],
      "execution_count": 22,
      "outputs": [
        {
          "output_type": "execute_result",
          "data": {
            "text/plain": [
              "1"
            ]
          },
          "metadata": {
            "tags": []
          },
          "execution_count": 22
        }
      ]
    },
    {
      "cell_type": "code",
      "metadata": {
        "id": "OsmCZSThi2Ei"
      },
      "source": [
        "lst_num.extend([50,50,50,30,40])"
      ],
      "execution_count": 23,
      "outputs": []
    },
    {
      "cell_type": "code",
      "metadata": {
        "colab": {
          "base_uri": "https://localhost:8080/"
        },
        "id": "ScCRcQVSi8AO",
        "outputId": "838c759d-97be-447d-96e4-e061b6fa423b"
      },
      "source": [
        "lst_num"
      ],
      "execution_count": 24,
      "outputs": [
        {
          "output_type": "execute_result",
          "data": {
            "text/plain": [
              "[10, 20, 30, 40, 50, 60, 70, 50, 50, 50, 30, 40]"
            ]
          },
          "metadata": {
            "tags": []
          },
          "execution_count": 24
        }
      ]
    },
    {
      "cell_type": "code",
      "metadata": {
        "colab": {
          "base_uri": "https://localhost:8080/"
        },
        "id": "sjWV-gmIi96X",
        "outputId": "41d24d55-c476-4ce7-ccb4-994ef5f35091"
      },
      "source": [
        "lst_num.count(50)"
      ],
      "execution_count": 26,
      "outputs": [
        {
          "output_type": "execute_result",
          "data": {
            "text/plain": [
              "4"
            ]
          },
          "metadata": {
            "tags": []
          },
          "execution_count": 26
        }
      ]
    },
    {
      "cell_type": "code",
      "metadata": {
        "id": "IoB8XNKhjDn-"
      },
      "source": [
        "lst_cpy=lst_num"
      ],
      "execution_count": 29,
      "outputs": []
    },
    {
      "cell_type": "code",
      "metadata": {
        "colab": {
          "base_uri": "https://localhost:8080/"
        },
        "id": "_BiOfc5CjV3t",
        "outputId": "5e056a93-dc61-4dae-e614-a99c2b86adf7"
      },
      "source": [
        "lst_num"
      ],
      "execution_count": 27,
      "outputs": [
        {
          "output_type": "execute_result",
          "data": {
            "text/plain": [
              "[10, 20, 30, 40, 50, 60, 70, 50, 50, 50, 30, 40]"
            ]
          },
          "metadata": {
            "tags": []
          },
          "execution_count": 27
        }
      ]
    },
    {
      "cell_type": "code",
      "metadata": {
        "colab": {
          "base_uri": "https://localhost:8080/"
        },
        "id": "NZf3LNkXjZaV",
        "outputId": "e730c620-ddc1-4402-dd28-6bafbe833ed1"
      },
      "source": [
        "lst_cpy"
      ],
      "execution_count": 30,
      "outputs": [
        {
          "output_type": "execute_result",
          "data": {
            "text/plain": [
              "[10, 20, 30, 40, 50, 60, 70, 50, 50, 50, 30, 40]"
            ]
          },
          "metadata": {
            "tags": []
          },
          "execution_count": 30
        }
      ]
    },
    {
      "cell_type": "code",
      "metadata": {
        "id": "ypnFebaPjkVG"
      },
      "source": [
        "lst_cpy.extend([90,100])"
      ],
      "execution_count": 31,
      "outputs": []
    },
    {
      "cell_type": "code",
      "metadata": {
        "colab": {
          "base_uri": "https://localhost:8080/"
        },
        "id": "dFblJT06jpKl",
        "outputId": "c9f550e5-0963-466c-d414-1147295d2832"
      },
      "source": [
        "lst_cpy"
      ],
      "execution_count": 32,
      "outputs": [
        {
          "output_type": "execute_result",
          "data": {
            "text/plain": [
              "[10, 20, 30, 40, 50, 60, 70, 50, 50, 50, 30, 40, 90, 100]"
            ]
          },
          "metadata": {
            "tags": []
          },
          "execution_count": 32
        }
      ]
    },
    {
      "cell_type": "code",
      "metadata": {
        "colab": {
          "base_uri": "https://localhost:8080/"
        },
        "id": "HElTneVBjrzB",
        "outputId": "c34d4aae-99f4-4f3f-b467-605d6d49c870"
      },
      "source": [
        "lst_num"
      ],
      "execution_count": 33,
      "outputs": [
        {
          "output_type": "execute_result",
          "data": {
            "text/plain": [
              "[10, 20, 30, 40, 50, 60, 70, 50, 50, 50, 30, 40, 90, 100]"
            ]
          },
          "metadata": {
            "tags": []
          },
          "execution_count": 33
        }
      ]
    },
    {
      "cell_type": "markdown",
      "metadata": {
        "id": "it8VXU9_ldZL"
      },
      "source": [
        "Python doesn't store values in variables; it binds names to objects. Your original assignment took the object referred to by my_list and bound it to new_list as well. No matter which name you use there is still only one list, so changes made when referring to it as my_list will persist when referring to it as new_list. Each of the other answers to this question give you different ways of creating a new object to bind to new_list."
      ]
    },
    {
      "cell_type": "code",
      "metadata": {
        "id": "IHkl8332jude"
      },
      "source": [
        "import copy\r\n",
        "new_cpy=copy.deepcopy(lst_num)"
      ],
      "execution_count": 35,
      "outputs": []
    },
    {
      "cell_type": "code",
      "metadata": {
        "colab": {
          "base_uri": "https://localhost:8080/"
        },
        "id": "nDl3r4-mkz3W",
        "outputId": "b9f88636-71e0-4ca4-c187-a352edb126df"
      },
      "source": [
        "new_cpy"
      ],
      "execution_count": 36,
      "outputs": [
        {
          "output_type": "execute_result",
          "data": {
            "text/plain": [
              "[10, 20, 30, 40, 50, 60, 70, 50, 50, 50, 30, 40, 90, 100]"
            ]
          },
          "metadata": {
            "tags": []
          },
          "execution_count": 36
        }
      ]
    },
    {
      "cell_type": "code",
      "metadata": {
        "id": "pRFarupqk2kr"
      },
      "source": [
        "lst_num.extend([110,120])"
      ],
      "execution_count": 37,
      "outputs": []
    },
    {
      "cell_type": "code",
      "metadata": {
        "colab": {
          "base_uri": "https://localhost:8080/"
        },
        "id": "G0KZ56bnk7wV",
        "outputId": "4d40211f-ad52-42a3-88af-4008d5dd9761"
      },
      "source": [
        "lst_num\r\n"
      ],
      "execution_count": 39,
      "outputs": [
        {
          "output_type": "execute_result",
          "data": {
            "text/plain": [
              "[10, 20, 30, 40, 50, 60, 70, 50, 50, 50, 30, 40, 90, 100, 110, 120]"
            ]
          },
          "metadata": {
            "tags": []
          },
          "execution_count": 39
        }
      ]
    },
    {
      "cell_type": "code",
      "metadata": {
        "colab": {
          "base_uri": "https://localhost:8080/"
        },
        "id": "CDg8BgZJlGBD",
        "outputId": "a444e3c9-f68c-4fca-d8cc-d0941fd281a6"
      },
      "source": [
        "lst_cpy\r\n"
      ],
      "execution_count": 40,
      "outputs": [
        {
          "output_type": "execute_result",
          "data": {
            "text/plain": [
              "[10, 20, 30, 40, 50, 60, 70, 50, 50, 50, 30, 40, 90, 100, 110, 120]"
            ]
          },
          "metadata": {
            "tags": []
          },
          "execution_count": 40
        }
      ]
    },
    {
      "cell_type": "code",
      "metadata": {
        "colab": {
          "base_uri": "https://localhost:8080/"
        },
        "id": "XmHOAQGmlLV5",
        "outputId": "de63f322-12ff-4abe-b5c3-44249c5e7458"
      },
      "source": [
        "new_cpy"
      ],
      "execution_count": 41,
      "outputs": [
        {
          "output_type": "execute_result",
          "data": {
            "text/plain": [
              "[10, 20, 30, 40, 50, 60, 70, 50, 50, 50, 30, 40, 90, 100]"
            ]
          },
          "metadata": {
            "tags": []
          },
          "execution_count": 41
        }
      ]
    },
    {
      "cell_type": "code",
      "metadata": {
        "id": "xoVsEQmmluDr"
      },
      "source": [
        "import numpy as np"
      ],
      "execution_count": 42,
      "outputs": []
    },
    {
      "cell_type": "code",
      "metadata": {
        "colab": {
          "base_uri": "https://localhost:8080/"
        },
        "id": "tFF1jEkgmMCc",
        "outputId": "14825c20-62d8-47c2-d87d-37ca30ed68d1"
      },
      "source": [
        "np_array_copy=np.copy(lst_num)\r\n",
        "np_array_copy"
      ],
      "execution_count": 44,
      "outputs": [
        {
          "output_type": "execute_result",
          "data": {
            "text/plain": [
              "array([ 10,  20,  30,  40,  50,  60,  70,  50,  50,  50,  30,  40,  90,\n",
              "       100, 110, 120])"
            ]
          },
          "metadata": {
            "tags": []
          },
          "execution_count": 44
        }
      ]
    },
    {
      "cell_type": "code",
      "metadata": {
        "id": "2p0cq6oKmei9"
      },
      "source": [
        "lst_num.extend([200,300])"
      ],
      "execution_count": 51,
      "outputs": []
    },
    {
      "cell_type": "code",
      "metadata": {
        "colab": {
          "base_uri": "https://localhost:8080/"
        },
        "id": "yw9ROvR_mmED",
        "outputId": "b897cd59-4f6f-4ac6-bcff-e15f69dae45a"
      },
      "source": [
        "lst_num"
      ],
      "execution_count": 52,
      "outputs": [
        {
          "output_type": "execute_result",
          "data": {
            "text/plain": [
              "[10,\n",
              " 20,\n",
              " 30,\n",
              " 40,\n",
              " 50,\n",
              " 60,\n",
              " 70,\n",
              " 50,\n",
              " 50,\n",
              " 50,\n",
              " 30,\n",
              " 40,\n",
              " 90,\n",
              " 100,\n",
              " 110,\n",
              " 120,\n",
              " [200, 300],\n",
              " 200,\n",
              " 300]"
            ]
          },
          "metadata": {
            "tags": []
          },
          "execution_count": 52
        }
      ]
    },
    {
      "cell_type": "markdown",
      "metadata": {
        "id": "B0xs-IPunHkE"
      },
      "source": [
        "after extending 'lst_num' and adding 200,300, changes are not reflected back to np_array_copy or vice_versa"
      ]
    },
    {
      "cell_type": "code",
      "metadata": {
        "colab": {
          "base_uri": "https://localhost:8080/"
        },
        "id": "wixBfG00nApj",
        "outputId": "eda9084b-9d0d-4570-d890-fa7661c2fd26"
      },
      "source": [
        "np_array_copy"
      ],
      "execution_count": 56,
      "outputs": [
        {
          "output_type": "execute_result",
          "data": {
            "text/plain": [
              "array([ 10,  20,  30,  40,  50,  60,  70,  50,  50,  50,  30,  40,  90,\n",
              "       100, 110, 120])"
            ]
          },
          "metadata": {
            "tags": []
          },
          "execution_count": 56
        }
      ]
    },
    {
      "cell_type": "code",
      "metadata": {
        "id": "h1MrRsdunpej"
      },
      "source": [
        "set1={10,20,30,40,50}\r\n"
      ],
      "execution_count": 57,
      "outputs": []
    },
    {
      "cell_type": "code",
      "metadata": {
        "id": "Rm9Zmr12nD_G"
      },
      "source": [
        "set2={40,50,60,70,80}"
      ],
      "execution_count": 58,
      "outputs": []
    },
    {
      "cell_type": "code",
      "metadata": {
        "colab": {
          "base_uri": "https://localhost:8080/"
        },
        "id": "Yy7tVbD5oArx",
        "outputId": "d44b9ffe-dbe3-4861-d696-3363143b51ab"
      },
      "source": [
        "set1.intersection(set2)"
      ],
      "execution_count": 59,
      "outputs": [
        {
          "output_type": "execute_result",
          "data": {
            "text/plain": [
              "{40, 50}"
            ]
          },
          "metadata": {
            "tags": []
          },
          "execution_count": 59
        }
      ]
    },
    {
      "cell_type": "code",
      "metadata": {
        "id": "WzyWFLO0oJJZ"
      },
      "source": [
        "dict1={'name':'RAM','add':'Mumbai','copmany':'Synechron'}"
      ],
      "execution_count": 60,
      "outputs": []
    },
    {
      "cell_type": "code",
      "metadata": {
        "colab": {
          "base_uri": "https://localhost:8080/"
        },
        "id": "YLxuOhjMoaDG",
        "outputId": "2d2cf47c-cb25-487d-bfa9-4a812934b243"
      },
      "source": [
        "dict1"
      ],
      "execution_count": 61,
      "outputs": [
        {
          "output_type": "execute_result",
          "data": {
            "text/plain": [
              "{'add': 'Mumbai', 'copmany': 'Synechron', 'name': 'RAM'}"
            ]
          },
          "metadata": {
            "tags": []
          },
          "execution_count": 61
        }
      ]
    },
    {
      "cell_type": "code",
      "metadata": {
        "colab": {
          "base_uri": "https://localhost:8080/"
        },
        "id": "l-JatJDEob9k",
        "outputId": "c5ffee7a-4e00-4896-9db5-51f4d5729494"
      },
      "source": [
        "for i in dict1.items():\r\n",
        "  print(i)"
      ],
      "execution_count": 62,
      "outputs": [
        {
          "output_type": "stream",
          "text": [
            "('name', 'RAM')\n",
            "('add', 'Mumbai')\n",
            "('copmany', 'Synechron')\n"
          ],
          "name": "stdout"
        }
      ]
    },
    {
      "cell_type": "code",
      "metadata": {
        "colab": {
          "base_uri": "https://localhost:8080/"
        },
        "id": "7QXS7f_Yol3R",
        "outputId": "4afb7729-d930-41c6-a8b2-3361e97dea00"
      },
      "source": [
        "for i in dict1.values():\r\n",
        "  print(i)"
      ],
      "execution_count": 63,
      "outputs": [
        {
          "output_type": "stream",
          "text": [
            "RAM\n",
            "Mumbai\n",
            "Synechron\n"
          ],
          "name": "stdout"
        }
      ]
    },
    {
      "cell_type": "code",
      "metadata": {
        "id": "X7oP4YJ5p38s"
      },
      "source": [
        "lst=[1,2,3,4,5,6,7,8,9,10,11,12]\r\n",
        "e_sum=0\r\n",
        "o_sum=0\r\n"
      ],
      "execution_count": 64,
      "outputs": []
    },
    {
      "cell_type": "code",
      "metadata": {
        "id": "-SHfL51yqL0g"
      },
      "source": [
        "for i in lst:\r\n",
        "  if i%2==0:\r\n",
        "   e_sum=e_sum+i\r\n",
        "  else:\r\n",
        "   o_sum=o_sum+i\r\n",
        "  \r\n"
      ],
      "execution_count": 77,
      "outputs": []
    },
    {
      "cell_type": "code",
      "metadata": {
        "colab": {
          "base_uri": "https://localhost:8080/"
        },
        "id": "U7Tu54TAq-4i",
        "outputId": "f4531615-6791-4921-9443-8aee98086679"
      },
      "source": [
        "e_sum"
      ],
      "execution_count": 78,
      "outputs": [
        {
          "output_type": "execute_result",
          "data": {
            "text/plain": [
              "60"
            ]
          },
          "metadata": {
            "tags": []
          },
          "execution_count": 78
        }
      ]
    },
    {
      "cell_type": "code",
      "metadata": {
        "colab": {
          "base_uri": "https://localhost:8080/"
        },
        "id": "-TNU0PfUrHzb",
        "outputId": "91d7a4d6-0c4a-41d5-e57f-0ae3916e33fd"
      },
      "source": [
        "o_sum"
      ],
      "execution_count": 79,
      "outputs": [
        {
          "output_type": "execute_result",
          "data": {
            "text/plain": [
              "54"
            ]
          },
          "metadata": {
            "tags": []
          },
          "execution_count": 79
        }
      ]
    },
    {
      "cell_type": "code",
      "metadata": {
        "id": "QBnB7HzvsUSW"
      },
      "source": [
        "def ucase(txt):\r\n",
        "  count=1\r\n",
        "  for i in txt:\r\n",
        "    if i.isupper():\r\n",
        "      count=count+1\r\n",
        "\r\n",
        "    return count\r\n",
        "\r\n"
      ],
      "execution_count": 84,
      "outputs": []
    },
    {
      "cell_type": "code",
      "metadata": {
        "colab": {
          "base_uri": "https://localhost:8080/"
        },
        "id": "UX1c1a9crZbm",
        "outputId": "db54d329-3c8a-4899-f8d7-e0db38c0de4e"
      },
      "source": [
        "ip=input()\r\n"
      ],
      "execution_count": 87,
      "outputs": [
        {
          "output_type": "stream",
          "text": [
            "HEMANTkumar wanI\n"
          ],
          "name": "stdout"
        }
      ]
    },
    {
      "cell_type": "code",
      "metadata": {
        "colab": {
          "base_uri": "https://localhost:8080/"
        },
        "id": "gpKmZ3rjsE4W",
        "outputId": "ce1b303f-5da4-4bc6-dc7d-92166c580541"
      },
      "source": [
        "ucase(ip)"
      ],
      "execution_count": 88,
      "outputs": [
        {
          "output_type": "execute_result",
          "data": {
            "text/plain": [
              "2"
            ]
          },
          "metadata": {
            "tags": []
          },
          "execution_count": 88
        }
      ]
    },
    {
      "cell_type": "code",
      "metadata": {
        "colab": {
          "base_uri": "https://localhost:8080/"
        },
        "id": "gXZZGCqAtltS",
        "outputId": "e60b4026-0f7f-4039-d6d3-b89fe3b158c4"
      },
      "source": [
        "lst"
      ],
      "execution_count": 89,
      "outputs": [
        {
          "output_type": "execute_result",
          "data": {
            "text/plain": [
              "[1, 2, 3, 4, 5, 6, 7, 8, 9, 10, 11, 12]"
            ]
          },
          "metadata": {
            "tags": []
          },
          "execution_count": 89
        }
      ]
    },
    {
      "cell_type": "code",
      "metadata": {
        "id": "pBW9NcqLuYAm"
      },
      "source": [
        "lst_even=list(filter(lambda x: (x%2==0), lst))"
      ],
      "execution_count": 91,
      "outputs": []
    },
    {
      "cell_type": "code",
      "metadata": {
        "colab": {
          "base_uri": "https://localhost:8080/"
        },
        "id": "MTx220ctuuZR",
        "outputId": "cfe07af5-9b1e-4b01-e93f-dc3ac4e60b33"
      },
      "source": [
        "lst_even"
      ],
      "execution_count": 92,
      "outputs": [
        {
          "output_type": "execute_result",
          "data": {
            "text/plain": [
              "[2, 4, 6, 8, 10, 12]"
            ]
          },
          "metadata": {
            "tags": []
          },
          "execution_count": 92
        }
      ]
    },
    {
      "cell_type": "code",
      "metadata": {
        "id": "E-Hs25axuyHa"
      },
      "source": [
        "lst_odd=list(filter(lambda x: (x%2==1),lst))"
      ],
      "execution_count": 94,
      "outputs": []
    },
    {
      "cell_type": "code",
      "metadata": {
        "colab": {
          "base_uri": "https://localhost:8080/"
        },
        "id": "1p_GbzwsvEPm",
        "outputId": "071e63ed-2d25-4041-ce8d-96cf8470ced3"
      },
      "source": [
        "lst_odd"
      ],
      "execution_count": 95,
      "outputs": [
        {
          "output_type": "execute_result",
          "data": {
            "text/plain": [
              "[1, 3, 5, 7, 9, 11]"
            ]
          },
          "metadata": {
            "tags": []
          },
          "execution_count": 95
        }
      ]
    },
    {
      "cell_type": "code",
      "metadata": {
        "id": "2IWrBalLvIg8"
      },
      "source": [
        "lst_cube=list(map(lambda x: (x*x*x),lst))"
      ],
      "execution_count": 98,
      "outputs": []
    },
    {
      "cell_type": "code",
      "metadata": {
        "colab": {
          "base_uri": "https://localhost:8080/"
        },
        "id": "bZGm_tF5va1c",
        "outputId": "13c64971-dba3-4dc4-88fd-6068bbd66d7c"
      },
      "source": [
        "lst_cube"
      ],
      "execution_count": 99,
      "outputs": [
        {
          "output_type": "execute_result",
          "data": {
            "text/plain": [
              "[1, 8, 27, 64, 125, 216, 343, 512, 729, 1000, 1331, 1728]"
            ]
          },
          "metadata": {
            "tags": []
          },
          "execution_count": 99
        }
      ]
    },
    {
      "cell_type": "code",
      "metadata": {
        "id": "yve9VUw4vj45"
      },
      "source": [
        "class stud:\r\n",
        "  def __init__(self,name, rollnum):\r\n",
        "    self.name=name\r\n",
        "    self.rollnum=rollnum\r\n",
        "\r\n",
        "    "
      ],
      "execution_count": 100,
      "outputs": []
    },
    {
      "cell_type": "code",
      "metadata": {
        "id": "qRk4ImKewl3I"
      },
      "source": [
        "p1=stud(\"Hemantkumar\",77)"
      ],
      "execution_count": 102,
      "outputs": []
    },
    {
      "cell_type": "code",
      "metadata": {
        "id": "QV2xPlxYxJcQ"
      },
      "source": [
        ""
      ],
      "execution_count": null,
      "outputs": []
    },
    {
      "cell_type": "code",
      "metadata": {
        "colab": {
          "base_uri": "https://localhost:8080/"
        },
        "id": "N9ujY7q1wz4S",
        "outputId": "7a6d4900-6929-461a-d546-e42ce1552771"
      },
      "source": [
        "print(p1.name)"
      ],
      "execution_count": 103,
      "outputs": [
        {
          "output_type": "stream",
          "text": [
            "Hemantkumar\n"
          ],
          "name": "stdout"
        }
      ]
    },
    {
      "cell_type": "code",
      "metadata": {
        "colab": {
          "base_uri": "https://localhost:8080/"
        },
        "id": "aiSeygZBw41Q",
        "outputId": "cc433cb1-5b5d-41b7-b658-3b08db34b31e"
      },
      "source": [
        "print(p1.rollnum)"
      ],
      "execution_count": 104,
      "outputs": [
        {
          "output_type": "stream",
          "text": [
            "77\n"
          ],
          "name": "stdout"
        }
      ]
    },
    {
      "cell_type": "code",
      "metadata": {
        "colab": {
          "base_uri": "https://localhost:8080/"
        },
        "id": "b49hCdQBw8gG",
        "outputId": "b4d73cbc-9a1b-4209-a91b-4a552f511fc7"
      },
      "source": [
        "print(p1)"
      ],
      "execution_count": 105,
      "outputs": [
        {
          "output_type": "stream",
          "text": [
            "<__main__.stud object at 0x7f112ffa0b00>\n"
          ],
          "name": "stdout"
        }
      ]
    },
    {
      "cell_type": "code",
      "metadata": {
        "id": "Y1UFn2gpxKb6"
      },
      "source": [
        "def sqr(num):\r\n",
        "   return(num * num)\r\n"
      ],
      "execution_count": 109,
      "outputs": []
    },
    {
      "cell_type": "code",
      "metadata": {
        "colab": {
          "base_uri": "https://localhost:8080/"
        },
        "id": "H_ARuo8cxU-F",
        "outputId": "b53032d1-6c9b-4d41-fd34-4aa1365f5414"
      },
      "source": [
        "print(list(map(sqr,lst)))"
      ],
      "execution_count": 110,
      "outputs": [
        {
          "output_type": "stream",
          "text": [
            "[1, 4, 9, 16, 25, 36, 49, 64, 81, 100, 121, 144]\n"
          ],
          "name": "stdout"
        }
      ]
    },
    {
      "cell_type": "code",
      "metadata": {
        "id": "BRRCpO7exqm1"
      },
      "source": [
        "actual_lst=[10,20,30]\r\n",
        "copied_lst=actual_lst[:]"
      ],
      "execution_count": 111,
      "outputs": []
    },
    {
      "cell_type": "code",
      "metadata": {
        "colab": {
          "base_uri": "https://localhost:8080/"
        },
        "id": "kwQpFoSd0qsC",
        "outputId": "86a718cd-b9d1-436e-9dff-8dfe14d80adc"
      },
      "source": [
        "actual_lst"
      ],
      "execution_count": 112,
      "outputs": [
        {
          "output_type": "execute_result",
          "data": {
            "text/plain": [
              "[10, 20, 30]"
            ]
          },
          "metadata": {
            "tags": []
          },
          "execution_count": 112
        }
      ]
    },
    {
      "cell_type": "code",
      "metadata": {
        "colab": {
          "base_uri": "https://localhost:8080/"
        },
        "id": "3q1gY01x0tpx",
        "outputId": "fb9f6db3-4783-4b3c-b86f-09fe2be18a27"
      },
      "source": [
        "copied_lst"
      ],
      "execution_count": 113,
      "outputs": [
        {
          "output_type": "execute_result",
          "data": {
            "text/plain": [
              "[10, 20, 30]"
            ]
          },
          "metadata": {
            "tags": []
          },
          "execution_count": 113
        }
      ]
    },
    {
      "cell_type": "code",
      "metadata": {
        "id": "KVnzTIXy0vl2"
      },
      "source": [
        "copied_lst.extend([50,60])"
      ],
      "execution_count": 114,
      "outputs": []
    },
    {
      "cell_type": "code",
      "metadata": {
        "colab": {
          "base_uri": "https://localhost:8080/"
        },
        "id": "CfYuzyzd01s2",
        "outputId": "66b1eb39-0423-41b9-c5f5-1b9f020b1879"
      },
      "source": [
        "copied_lst"
      ],
      "execution_count": 115,
      "outputs": [
        {
          "output_type": "execute_result",
          "data": {
            "text/plain": [
              "[10, 20, 30, 50, 60]"
            ]
          },
          "metadata": {
            "tags": []
          },
          "execution_count": 115
        }
      ]
    },
    {
      "cell_type": "code",
      "metadata": {
        "colab": {
          "base_uri": "https://localhost:8080/"
        },
        "id": "feG8EC2603hC",
        "outputId": "59c890ee-f6ab-4931-e3ee-998e001505aa"
      },
      "source": [
        "actual_lst"
      ],
      "execution_count": 116,
      "outputs": [
        {
          "output_type": "execute_result",
          "data": {
            "text/plain": [
              "[10, 20, 30]"
            ]
          },
          "metadata": {
            "tags": []
          },
          "execution_count": 116
        }
      ]
    },
    {
      "cell_type": "markdown",
      "metadata": {
        "id": "VLAnCIer1hmv"
      },
      "source": [
        "Keyword argument"
      ]
    },
    {
      "cell_type": "code",
      "metadata": {
        "id": "731Qgxti1kLZ"
      },
      "source": [
        "def test_func_keyword_arg(stud1,stud2,stud3):\r\n",
        "  print(stud1,stud2,stud3)"
      ],
      "execution_count": 117,
      "outputs": []
    },
    {
      "cell_type": "code",
      "metadata": {
        "colab": {
          "base_uri": "https://localhost:8080/"
        },
        "id": "VPtWCFJ313Hv",
        "outputId": "b9550054-0c82-4e8a-b9c1-99da8bf08aaa"
      },
      "source": [
        "test_func_keyword_arg(stud2='Shyam',stud3='Shiv',stud1='Ram')"
      ],
      "execution_count": 118,
      "outputs": [
        {
          "output_type": "stream",
          "text": [
            "Ram Shyam Shiv\n"
          ],
          "name": "stdout"
        }
      ]
    },
    {
      "cell_type": "code",
      "metadata": {
        "id": "4dyjn4XikVwN"
      },
      "source": [
        "list_str=['ram','sham','ram','ram','sham','shiv']"
      ],
      "execution_count": 3,
      "outputs": []
    },
    {
      "cell_type": "code",
      "metadata": {
        "colab": {
          "base_uri": "https://localhost:8080/"
        },
        "id": "8booBBSG06kx",
        "outputId": "19805f7c-2a6d-4732-c3a9-df35c77b38d5"
      },
      "source": [
        "list_str.count('ram')"
      ],
      "execution_count": 4,
      "outputs": [
        {
          "output_type": "execute_result",
          "data": {
            "text/plain": [
              "3"
            ]
          },
          "metadata": {
            "tags": []
          },
          "execution_count": 4
        }
      ]
    },
    {
      "cell_type": "code",
      "metadata": {
        "id": "S2XsMUu1kJu1"
      },
      "source": [
        ""
      ],
      "execution_count": null,
      "outputs": []
    },
    {
      "cell_type": "markdown",
      "metadata": {
        "id": "hVKWJaL-1g_Y"
      },
      "source": [
        ""
      ]
    }
  ]
}